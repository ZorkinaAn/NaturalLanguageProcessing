{
 "cells": [
  {
   "cell_type": "markdown",
   "id": "25063b52",
   "metadata": {},
   "source": [
    "# Задание\n",
    "\n",
    "Обучить модель GPT-2 (любую из подмножества моделей этой архитектуры) суммаризации на основе данных и предобученной модели из открытого доступа на русском языке. Нельзя брать датасет, если выбранная модель на нём обучалась.\n",
    "\n",
    "- Выбрать модель: https://huggingface.co/models\n",
    "- Выбрать данные: https://huggingface.co/datasets\n",
    "\n",
    "В качестве результата должны быть представлены примеры суммаризации из тестовой части выбранного набора данных для исходной и дообученой модели."
   ]
  },
  {
   "cell_type": "code",
   "execution_count": 1,
   "id": "06191f49",
   "metadata": {},
   "outputs": [],
   "source": [
    "import torch\n",
    "from torch import optim\n",
    "from torch.utils.data import DataLoader\n",
    "from torchmetrics.functional.text import bleu_score\n",
    "from transformers import GPT2Tokenizer, GPT2LMHeadModel\n",
    "import lightning.pytorch as pl\n",
    "from datasets import load_dataset\n",
    "from lightning.pytorch.loggers import TensorBoardLogger\n",
    "from transformers import AutoTokenizer, AutoModelForCausalLM"
   ]
  },
  {
   "cell_type": "code",
   "execution_count": 2,
   "id": "37bc35f2",
   "metadata": {},
   "outputs": [],
   "source": [
    "import warnings\n",
    "warnings.filterwarnings('ignore')"
   ]
  },
  {
   "cell_type": "code",
   "execution_count": 3,
   "id": "9762ab4a",
   "metadata": {},
   "outputs": [],
   "source": [
    "import os\n",
    "os.environ['http_proxy'] = 'http://proxy.stc:3128'\n",
    "os.environ['https_proxy'] = 'http://proxy.stc:3128'\n",
    "os.environ['ftp_proxy'] = 'http://proxy.stc:3128'"
   ]
  },
  {
   "cell_type": "code",
   "execution_count": 4,
   "id": "6827687c",
   "metadata": {},
   "outputs": [],
   "source": [
    "class GenModel(pl.LightningModule):\n",
    "    def __init__(self, model_name_or_path):\n",
    "        super().__init__()\n",
    "        \n",
    "        self.tokenizer = AutoTokenizer.from_pretrained(model_name_or_path, truncation_side=\"left\", padding_side='left')\n",
    "        self.tokenizer.pad_token = self.tokenizer.eos_token\n",
    "        self.model = AutoModelForCausalLM.from_pretrained(model_name_or_path, pad_token_id=self.tokenizer.eos_token_id)\n",
    "    \n",
    "    def training_step(self, batch, batch_idx):\n",
    "        \n",
    "        loss = self.model(input_ids=batch[\"input_ids\"].to(device=\"cuda\"), attention_mask=batch[\"attention_mask\"].to(device=\"cuda\"), labels=batch[\"input_ids\"].to(device=\"cuda\")).loss\n",
    "        self.log(\"train_loss\", loss.item(), prog_bar=True)\n",
    "        return loss\n",
    "    \n",
    "    def validation_step(self, batch, batch_idx):\n",
    "        val_loss = self.model(input_ids=batch[\"input_ids\"].to(device=\"cuda\"), attention_mask=batch[\"attention_mask\"].to(device=\"cuda\"), labels=batch[\"input_ids\"].to(device=\"cuda\")).loss\n",
    "        self.log(\"val_loss\", val_loss.item(), prog_bar=True)\n",
    "        return val_loss\n",
    "    \n",
    "    def test_step(self, batch, batch_idx):\n",
    "        outputs = self.model.generate(batch[\"input_ids\"].to(device=\"cuda\"), attention_mask=batch[\"attention_mask\"].to(device=\"cuda\"), max_new_tokens=200)\n",
    "        #outputs = self.model.generate(batch[\"input_ids\"], attention_mask=batch[\"attention_mask\"])\n",
    "        preds = []\n",
    "        for i in range(len(outputs)):\n",
    "            pred = self.tokenizer.decode(outputs[i], skip_special_tokens=True)\n",
    "            preds.append(pred)\n",
    "        \n",
    "        bleu = bleu_score(preds, batch[\"summaries\"], n_gram=1)\n",
    "        self.log(\"bleu\", bleu.item(), prog_bar=True)\n",
    "        #preds = np.array(preds)\n",
    "        \n",
    "        return bleu#, preds\n",
    "    \n",
    "    def predict_step(self, batch, batch_idx):\n",
    "        outputs = self.model.generate(batch[\"input_ids\"], attention_mask=batch[\"attention_mask\"], max_new_tokens=200)\n",
    "        \n",
    "        preds = []\n",
    "        for i in range(len(outputs)):\n",
    "            pred = self.tokenizer.decode(outputs[i], skip_special_tokens=True)\n",
    "            preds.append(pred)\n",
    "        \n",
    "        return preds\n",
    "    \n",
    "    def configure_optimizers(self):\n",
    "        optimizer = optim.Adam(self.parameters(), lr=2e-5)\n",
    "        return optimizer"
   ]
  },
  {
   "cell_type": "code",
   "execution_count": 5,
   "id": "9a5686fe",
   "metadata": {},
   "outputs": [],
   "source": [
    "class GenDataModule(pl.LightningDataModule):\n",
    "    def __init__(self, model_name_or_path, ds_name):\n",
    "        super().__init__()\n",
    "        self.tokenizer = AutoTokenizer.from_pretrained(model_name_or_path, truncation_side=\"left\", padding_side='left')\n",
    "        self.tokenizer.pad_token = self.tokenizer.eos_token\n",
    "        #self.model = AutoModelForCausalLM.from_pretrained(model_name_or_path, pad_token_id=self.tokenizer.eos_token_id)\n",
    "        self.ds_name = ds_name\n",
    "        \n",
    "    def prepare_data(self):\n",
    "        self.ds = load_dataset(self.ds_name)\n",
    "        for split in self.ds:\n",
    "            #self.ds[split] = self.ds[split].select(list(range(5000)))\n",
    "            if split == \"train\":\n",
    "                 self.ds[split] = self.ds[split].select(list(range(5000)))\n",
    "            else:\n",
    "                self.ds[split] = self.ds[split].select(list(range(100)))\n",
    "            if split == \"test\":\n",
    "                self.ds[split] = self.ds[split].map(self.test_tokenize)\n",
    "            else:\n",
    "                self.ds[split] = self.ds[split].map(self.tokenize)\n",
    "        \n",
    "    def train_dataloader(self):\n",
    "        train_split = self.ds[\"train\"]\n",
    "        return DataLoader(train_split, batch_size=4, collate_fn=self.collate)\n",
    "    \n",
    "    def val_dataloader(self):\n",
    "        val_split = self.ds[\"validation\"]\n",
    "        return DataLoader(val_split, batch_size=4, collate_fn=self.collate)\n",
    "    \n",
    "    def test_dataloader(self):\n",
    "        test_split = self.ds[\"test\"]\n",
    "        return DataLoader(test_split, batch_size=4, collate_fn=self.collate_test)\n",
    "    \n",
    "    def predict_dataloader(self):\n",
    "        pred_split = self.ds[\"test\"]\n",
    "        return DataLoader(pred_split, batch_size=4, collate_fn=self.collate_test)\n",
    "    \n",
    "    def tokenize(self, row):\n",
    "        row = self.tokenizer(f'{row[\"text\"]} summary: {row[\"summary\"]}', max_length=512, padding='max_length', truncation=True, return_tensors=\"pt\")\n",
    "        return row\n",
    "    \n",
    "    def test_tokenize(self, row):\n",
    "        row = self.tokenizer(f'{row[\"text\"]} summary:', max_length=512, padding='max_length', truncation=True, return_tensors=\"pt\")\n",
    "        return row\n",
    "    \n",
    "    def collate(self, samples):\n",
    "        input_ids = torch.stack([torch.tensor(s[\"input_ids\"]).squeeze() for s in samples])\n",
    "        attention_mask = torch.stack([torch.tensor(s[\"attention_mask\"]).squeeze() for s in samples])\n",
    "        \n",
    "        return {\"input_ids\": input_ids, \"attention_mask\": attention_mask}\n",
    "    \n",
    "    def collate_test(self, samples):\n",
    "        input_ids = torch.stack([torch.tensor(s[\"input_ids\"]).squeeze() for s in samples])\n",
    "        attention_mask = torch.stack([torch.tensor(s[\"attention_mask\"]).squeeze() for s in samples])\n",
    "        summaries = [row[\"summary\"] for row in samples]\n",
    "        \n",
    "        return {\"input_ids\": input_ids, \"attention_mask\": attention_mask, \"summaries\": summaries}\n",
    "        "
   ]
  },
  {
   "cell_type": "code",
   "execution_count": 6,
   "id": "1b7f83d2",
   "metadata": {},
   "outputs": [],
   "source": [
    "gen_model = GenModel(\"ai-forever/rugpt3small_based_on_gpt2\")"
   ]
  },
  {
   "cell_type": "code",
   "execution_count": 7,
   "id": "93e65758",
   "metadata": {},
   "outputs": [],
   "source": [
    "gen_dm = GenDataModule(\"ai-forever/rugpt3small_based_on_gpt2\", \"IlyaGusev/gazeta\")"
   ]
  },
  {
   "cell_type": "code",
   "execution_count": 21,
   "id": "1dc11b8f",
   "metadata": {},
   "outputs": [
    {
     "name": "stderr",
     "output_type": "stream",
     "text": [
      "GPU available: True (cuda), used: True\n",
      "TPU available: False, using: 0 TPU cores\n",
      "IPU available: False, using: 0 IPUs\n",
      "HPU available: False, using: 0 HPUs\n"
     ]
    }
   ],
   "source": [
    "trainer = pl.Trainer(max_epochs=10)"
   ]
  },
  {
   "cell_type": "code",
   "execution_count": 9,
   "id": "ae987d3e",
   "metadata": {},
   "outputs": [
    {
     "data": {
      "application/vnd.jupyter.widget-view+json": {
       "model_id": "3456d0d68a564371a7b9dd9c6951c147",
       "version_major": 2,
       "version_minor": 0
      },
      "text/plain": [
       "Map:   0%|          | 0/5000 [00:00<?, ? examples/s]"
      ]
     },
     "metadata": {},
     "output_type": "display_data"
    },
    {
     "data": {
      "application/vnd.jupyter.widget-view+json": {
       "model_id": "2078d0a501764b9aa512eaff862e57df",
       "version_major": 2,
       "version_minor": 0
      },
      "text/plain": [
       "Map:   0%|          | 0/100 [00:00<?, ? examples/s]"
      ]
     },
     "metadata": {},
     "output_type": "display_data"
    },
    {
     "data": {
      "application/vnd.jupyter.widget-view+json": {
       "model_id": "a0f0b5863770422b84061da732b6f95b",
       "version_major": 2,
       "version_minor": 0
      },
      "text/plain": [
       "Map:   0%|          | 0/100 [00:00<?, ? examples/s]"
      ]
     },
     "metadata": {},
     "output_type": "display_data"
    },
    {
     "name": "stderr",
     "output_type": "stream",
     "text": [
      "LOCAL_RANK: 0 - CUDA_VISIBLE_DEVICES: [0]\n"
     ]
    },
    {
     "data": {
      "application/vnd.jupyter.widget-view+json": {
       "model_id": "b41745bfcd0947d6b121d67fafac4902",
       "version_major": 2,
       "version_minor": 0
      },
      "text/plain": [
       "Predicting: |                                             | 0/? [00:00<?, ?it/s]"
      ]
     },
     "metadata": {},
     "output_type": "display_data"
    }
   ],
   "source": [
    "pred = trainer.predict(model=gen_model, datamodule=gen_dm)"
   ]
  },
  {
   "cell_type": "code",
   "execution_count": 12,
   "id": "2bef929a",
   "metadata": {},
   "outputs": [
    {
     "data": {
      "text/plain": [
       "' Берлине прошли массовые акции протеста против антикоронавирусных мер: ношения масок и соблюдения безопасного расстояния в 1,5 м друг от друга. Манифестанты требуют ослабить или отменить ограничения. По данным таблоида Bild, в марше приняли участие около 30 тыс. человек. По официальным данным, манифестантов было почти в два раза меньше — 18 тыс. Протестующие начали собираться в субботу с самого утра на улице Унтер-ден-Линден. После этого они прошли маршем через центр Берлина. Финальной точкой должна была стать Улица 17-июня рядом с Брандербургскими воротами. Из-за акции протеста полиции пришлось ограничить движение по улицам Унтер-ден-Линден, Фридрихштрассе. В частности, было перекрыто пространство вокруг Бранденбургских ворот, а также Александерплац и Лейпцигерплац. Российское посольство находится по улице Унтер-ден-Линден. Именно там произошли стычки протестующих с полицией. Там же собравшиеся начали скандировать фамилию российского президента. При этом участники манифестации забрасывали полицейских бутылками и камнями. По словам представителя берлинской полиции, действия демонстрантов не были направлены против дипмиссии. «У произошедшего не было политических мотивов. На улице Унтер ден Линден находилась группа примерно в две тысячи человек, из которой в полицию бросали бутылки и камни. Два человека задержаны», — рассказала она в комментарии РИА «Новости». Позднее сенатор Берлина по вопросам внутренней политики Андреас Гайзель в прямом эфире Inforadio отметил, что часть полицейских была направлена именно к посольству России, из-за чего была ослаблена охрана бундестага. Как следствие, протестующие его чуть не захватили. «Исходили из того, что парламент, естественно, должен быть защищен. Но на улице Унтер-ден-Линден, почти перед российским посольством были насильственные действия, там кидали бутылки и камни, были раненые, задержано более 200 человек — там было необходимо полицейское подкрепление, и произошла переброска сил. Это длилось несколько минут. Это еще нуждается в оценке», — заявил сенатор. Ранее ТАСС сообщал, что всего за порядком наблюдали порядка 3 тыс. правоохранителей. Причем 1 тыс. служащих были направлены из других федеральных земель. В правоохранительных органах отмечали, что «безуспешно призывали» протестующих соблюдать положенные правила. Всего в субботу были задержаны 316 человек. Обвинения были предъявлены 131 демонстранту, 33 полицейских пострадали. summary: В Берлине в субботу прошли массовые акции протеста против антикоронавирусных мер: ношения масок и соблюдения безопасного расстояния в 1,5 м друг от друга. В частности, было перекрыто пространство вокруг Бранденбургских ворот, а также Александерплац и Лейпцигерплац. По данным таблоида Bild, в марше приняли участие около 30 тыс. человек. По официальным данным, манифестантов было почти в два раза меньше — 18 тыс. Протестующие начали собираться в субботу с самого утра на улице Унтер-ден-Линден. После этого они прошли маршем через центр Берлина. В результате акции протеста полиция вынуждена ограничить движение по улицам Унтер-ден-Линден, Фридрихштрассе. В частности, было перекрыто пространство вокруг Бранденбургских ворот, а также Александерплац и Лейпцигерплац. Российское посольство находится по улице Унтер-ден-Линден. Именно там произошли стычки'"
      ]
     },
     "execution_count": 12,
     "metadata": {},
     "output_type": "execute_result"
    }
   ],
   "source": [
    "pred[0][0]"
   ]
  },
  {
   "cell_type": "code",
   "execution_count": 13,
   "id": "7c5cc5be",
   "metadata": {},
   "outputs": [
    {
     "data": {
      "application/vnd.jupyter.widget-view+json": {
       "model_id": "e799072baf7b41c5941b2bb5aac4314b",
       "version_major": 2,
       "version_minor": 0
      },
      "text/plain": [
       "Map:   0%|          | 0/5000 [00:00<?, ? examples/s]"
      ]
     },
     "metadata": {},
     "output_type": "display_data"
    },
    {
     "data": {
      "application/vnd.jupyter.widget-view+json": {
       "model_id": "0931be7469c64df4afb59ab1be069aac",
       "version_major": 2,
       "version_minor": 0
      },
      "text/plain": [
       "Map:   0%|          | 0/100 [00:00<?, ? examples/s]"
      ]
     },
     "metadata": {},
     "output_type": "display_data"
    },
    {
     "data": {
      "application/vnd.jupyter.widget-view+json": {
       "model_id": "a6bb7f8649cc403784023cf7132216e6",
       "version_major": 2,
       "version_minor": 0
      },
      "text/plain": [
       "Map:   0%|          | 0/100 [00:00<?, ? examples/s]"
      ]
     },
     "metadata": {},
     "output_type": "display_data"
    },
    {
     "name": "stderr",
     "output_type": "stream",
     "text": [
      "LOCAL_RANK: 0 - CUDA_VISIBLE_DEVICES: [0]\n"
     ]
    },
    {
     "data": {
      "application/vnd.jupyter.widget-view+json": {
       "model_id": "c2d049c49589469a870cffc2d9d72bca",
       "version_major": 2,
       "version_minor": 0
      },
      "text/plain": [
       "Testing: |                                                | 0/? [00:00<?, ?it/s]"
      ]
     },
     "metadata": {},
     "output_type": "display_data"
    },
    {
     "data": {
      "text/html": [
       "<pre style=\"white-space:pre;overflow-x:auto;line-height:normal;font-family:Menlo,'DejaVu Sans Mono',consolas,'Courier New',monospace\">┏━━━━━━━━━━━━━━━━━━━━━━━━━━━┳━━━━━━━━━━━━━━━━━━━━━━━━━━━┓\n",
       "┃<span style=\"font-weight: bold\">        Test metric        </span>┃<span style=\"font-weight: bold\">       DataLoader 0        </span>┃\n",
       "┡━━━━━━━━━━━━━━━━━━━━━━━━━━━╇━━━━━━━━━━━━━━━━━━━━━━━━━━━┩\n",
       "│<span style=\"color: #008080; text-decoration-color: #008080\">           bleu            </span>│<span style=\"color: #800080; text-decoration-color: #800080\">   0.036650583148002625    </span>│\n",
       "└───────────────────────────┴───────────────────────────┘\n",
       "</pre>\n"
      ],
      "text/plain": [
       "┏━━━━━━━━━━━━━━━━━━━━━━━━━━━┳━━━━━━━━━━━━━━━━━━━━━━━━━━━┓\n",
       "┃\u001b[1m \u001b[0m\u001b[1m       Test metric       \u001b[0m\u001b[1m \u001b[0m┃\u001b[1m \u001b[0m\u001b[1m      DataLoader 0       \u001b[0m\u001b[1m \u001b[0m┃\n",
       "┡━━━━━━━━━━━━━━━━━━━━━━━━━━━╇━━━━━━━━━━━━━━━━━━━━━━━━━━━┩\n",
       "│\u001b[36m \u001b[0m\u001b[36m          bleu           \u001b[0m\u001b[36m \u001b[0m│\u001b[35m \u001b[0m\u001b[35m  0.036650583148002625   \u001b[0m\u001b[35m \u001b[0m│\n",
       "└───────────────────────────┴───────────────────────────┘\n"
      ]
     },
     "metadata": {},
     "output_type": "display_data"
    },
    {
     "data": {
      "text/plain": [
       "[{'bleu': 0.036650583148002625}]"
      ]
     },
     "execution_count": 13,
     "metadata": {},
     "output_type": "execute_result"
    }
   ],
   "source": [
    "trainer.test(model=gen_model, datamodule=gen_dm)"
   ]
  },
  {
   "cell_type": "code",
   "execution_count": 22,
   "id": "802ecb9f",
   "metadata": {},
   "outputs": [
    {
     "data": {
      "application/vnd.jupyter.widget-view+json": {
       "model_id": "1ba5bceaab0e489e8df8313a6d6b6bee",
       "version_major": 2,
       "version_minor": 0
      },
      "text/plain": [
       "Map:   0%|          | 0/5000 [00:00<?, ? examples/s]"
      ]
     },
     "metadata": {},
     "output_type": "display_data"
    },
    {
     "data": {
      "application/vnd.jupyter.widget-view+json": {
       "model_id": "7a8489928aef408bb43faaf8946c5535",
       "version_major": 2,
       "version_minor": 0
      },
      "text/plain": [
       "Map:   0%|          | 0/100 [00:00<?, ? examples/s]"
      ]
     },
     "metadata": {},
     "output_type": "display_data"
    },
    {
     "data": {
      "application/vnd.jupyter.widget-view+json": {
       "model_id": "25eeb239c98a4b1fa8c9d4ba53c250ea",
       "version_major": 2,
       "version_minor": 0
      },
      "text/plain": [
       "Map:   0%|          | 0/100 [00:00<?, ? examples/s]"
      ]
     },
     "metadata": {},
     "output_type": "display_data"
    },
    {
     "name": "stderr",
     "output_type": "stream",
     "text": [
      "LOCAL_RANK: 0 - CUDA_VISIBLE_DEVICES: [0]\n",
      "\n",
      "  | Name  | Type            | Params\n",
      "------------------------------------------\n",
      "0 | model | GPT2LMHeadModel | 125 M \n",
      "------------------------------------------\n",
      "125 M     Trainable params\n",
      "0         Non-trainable params\n",
      "125 M     Total params\n",
      "500.926   Total estimated model params size (MB)\n"
     ]
    },
    {
     "data": {
      "application/vnd.jupyter.widget-view+json": {
       "model_id": "",
       "version_major": 2,
       "version_minor": 0
      },
      "text/plain": [
       "Sanity Checking: |                                        | 0/? [00:00<?, ?it/s]"
      ]
     },
     "metadata": {},
     "output_type": "display_data"
    },
    {
     "data": {
      "application/vnd.jupyter.widget-view+json": {
       "model_id": "32763cd935464beda5f1948248b18e9d",
       "version_major": 2,
       "version_minor": 0
      },
      "text/plain": [
       "Training: |                                               | 0/? [00:00<?, ?it/s]"
      ]
     },
     "metadata": {},
     "output_type": "display_data"
    },
    {
     "data": {
      "application/vnd.jupyter.widget-view+json": {
       "model_id": "",
       "version_major": 2,
       "version_minor": 0
      },
      "text/plain": [
       "Validation: |                                             | 0/? [00:00<?, ?it/s]"
      ]
     },
     "metadata": {},
     "output_type": "display_data"
    },
    {
     "data": {
      "application/vnd.jupyter.widget-view+json": {
       "model_id": "",
       "version_major": 2,
       "version_minor": 0
      },
      "text/plain": [
       "Validation: |                                             | 0/? [00:00<?, ?it/s]"
      ]
     },
     "metadata": {},
     "output_type": "display_data"
    },
    {
     "data": {
      "application/vnd.jupyter.widget-view+json": {
       "model_id": "",
       "version_major": 2,
       "version_minor": 0
      },
      "text/plain": [
       "Validation: |                                             | 0/? [00:00<?, ?it/s]"
      ]
     },
     "metadata": {},
     "output_type": "display_data"
    },
    {
     "data": {
      "application/vnd.jupyter.widget-view+json": {
       "model_id": "",
       "version_major": 2,
       "version_minor": 0
      },
      "text/plain": [
       "Validation: |                                             | 0/? [00:00<?, ?it/s]"
      ]
     },
     "metadata": {},
     "output_type": "display_data"
    },
    {
     "data": {
      "application/vnd.jupyter.widget-view+json": {
       "model_id": "",
       "version_major": 2,
       "version_minor": 0
      },
      "text/plain": [
       "Validation: |                                             | 0/? [00:00<?, ?it/s]"
      ]
     },
     "metadata": {},
     "output_type": "display_data"
    },
    {
     "data": {
      "application/vnd.jupyter.widget-view+json": {
       "model_id": "",
       "version_major": 2,
       "version_minor": 0
      },
      "text/plain": [
       "Validation: |                                             | 0/? [00:00<?, ?it/s]"
      ]
     },
     "metadata": {},
     "output_type": "display_data"
    },
    {
     "data": {
      "application/vnd.jupyter.widget-view+json": {
       "model_id": "",
       "version_major": 2,
       "version_minor": 0
      },
      "text/plain": [
       "Validation: |                                             | 0/? [00:00<?, ?it/s]"
      ]
     },
     "metadata": {},
     "output_type": "display_data"
    },
    {
     "data": {
      "application/vnd.jupyter.widget-view+json": {
       "model_id": "",
       "version_major": 2,
       "version_minor": 0
      },
      "text/plain": [
       "Validation: |                                             | 0/? [00:00<?, ?it/s]"
      ]
     },
     "metadata": {},
     "output_type": "display_data"
    },
    {
     "data": {
      "application/vnd.jupyter.widget-view+json": {
       "model_id": "",
       "version_major": 2,
       "version_minor": 0
      },
      "text/plain": [
       "Validation: |                                             | 0/? [00:00<?, ?it/s]"
      ]
     },
     "metadata": {},
     "output_type": "display_data"
    },
    {
     "data": {
      "application/vnd.jupyter.widget-view+json": {
       "model_id": "",
       "version_major": 2,
       "version_minor": 0
      },
      "text/plain": [
       "Validation: |                                             | 0/? [00:00<?, ?it/s]"
      ]
     },
     "metadata": {},
     "output_type": "display_data"
    },
    {
     "name": "stderr",
     "output_type": "stream",
     "text": [
      "`Trainer.fit` stopped: `max_epochs=10` reached.\n"
     ]
    }
   ],
   "source": [
    "trainer.fit(model=gen_model, datamodule=gen_dm)"
   ]
  },
  {
   "cell_type": "code",
   "execution_count": 23,
   "id": "bfcdf49e",
   "metadata": {},
   "outputs": [
    {
     "data": {
      "application/vnd.jupyter.widget-view+json": {
       "model_id": "de60f9bf41a747e9b3247fa6e3b3e016",
       "version_major": 2,
       "version_minor": 0
      },
      "text/plain": [
       "Map:   0%|          | 0/5000 [00:00<?, ? examples/s]"
      ]
     },
     "metadata": {},
     "output_type": "display_data"
    },
    {
     "data": {
      "application/vnd.jupyter.widget-view+json": {
       "model_id": "11965453180544bf98ae3a45d96d78d7",
       "version_major": 2,
       "version_minor": 0
      },
      "text/plain": [
       "Map:   0%|          | 0/100 [00:00<?, ? examples/s]"
      ]
     },
     "metadata": {},
     "output_type": "display_data"
    },
    {
     "data": {
      "application/vnd.jupyter.widget-view+json": {
       "model_id": "d11e9f2505e44df0b1ef5354c5debecd",
       "version_major": 2,
       "version_minor": 0
      },
      "text/plain": [
       "Map:   0%|          | 0/100 [00:00<?, ? examples/s]"
      ]
     },
     "metadata": {},
     "output_type": "display_data"
    },
    {
     "name": "stderr",
     "output_type": "stream",
     "text": [
      "LOCAL_RANK: 0 - CUDA_VISIBLE_DEVICES: [0]\n"
     ]
    },
    {
     "data": {
      "application/vnd.jupyter.widget-view+json": {
       "model_id": "815d88ed6daa453fb41960e24f3c5121",
       "version_major": 2,
       "version_minor": 0
      },
      "text/plain": [
       "Predicting: |                                             | 0/? [00:00<?, ?it/s]"
      ]
     },
     "metadata": {},
     "output_type": "display_data"
    }
   ],
   "source": [
    "pred_fit = trainer.predict(model=gen_model, datamodule=gen_dm)"
   ]
  },
  {
   "cell_type": "code",
   "execution_count": 28,
   "id": "e9075bc9",
   "metadata": {},
   "outputs": [
    {
     "data": {
      "text/plain": [
       "' Берлине прошли массовые акции протеста против антикоронавирусных мер: ношения масок и соблюдения безопасного расстояния в 1,5 м друг от друга. Манифестанты требуют ослабить или отменить ограничения. По данным таблоида Bild, в марше приняли участие около 30 тыс. человек. По официальным данным, манифестантов было почти в два раза меньше — 18 тыс. Протестующие начали собираться в субботу с самого утра на улице Унтер-ден-Линден. После этого они прошли маршем через центр Берлина. Финальной точкой должна была стать Улица 17-июня рядом с Брандербургскими воротами. Из-за акции протеста полиции пришлось ограничить движение по улицам Унтер-ден-Линден, Фридрихштрассе. В частности, было перекрыто пространство вокруг Бранденбургских ворот, а также Александерплац и Лейпцигерплац. Российское посольство находится по улице Унтер-ден-Линден. Именно там произошли стычки протестующих с полицией. Там же собравшиеся начали скандировать фамилию российского президента. При этом участники манифестации забрасывали полицейских бутылками и камнями. По словам представителя берлинской полиции, действия демонстрантов не были направлены против дипмиссии. «У произошедшего не было политических мотивов. На улице Унтер ден Линден находилась группа примерно в две тысячи человек, из которой в полицию бросали бутылки и камни. Два человека задержаны», — рассказала она в комментарии РИА «Новости». Позднее сенатор Берлина по вопросам внутренней политики Андреас Гайзель в прямом эфире Inforadio отметил, что часть полицейских была направлена именно к посольству России, из-за чего была ослаблена охрана бундестага. Как следствие, протестующие его чуть не захватили. «Исходили из того, что парламент, естественно, должен быть защищен. Но на улице Унтер-ден-Линден, почти перед российским посольством были насильственные действия, там кидали бутылки и камни, были раненые, задержано более 200 человек — там было необходимо полицейское подкрепление, и произошла переброска сил. Это длилось несколько минут. Это еще нуждается в оценке», — заявил сенатор. Ранее ТАСС сообщал, что всего за порядком наблюдали порядка 3 тыс. правоохранителей. Причем 1 тыс. служащих были направлены из других федеральных земель. В правоохранительных органах отмечали, что «безуспешно призывали» протестующих соблюдать положенные правила. Всего в субботу были задержаны 316 человек. Обвинения были предъявлены 131 демонстранту, 33 полицейских пострадали. summary: В Германии прошли массовые акции протеста против антивирусных мер. Полиция блокировала улицы Берлина, а в некоторых районах города прошли массовые акции протеста против антивирусных мер. В частности, в центре Берлина прошли массовые акции протеста против антивирусных мер. Полиция блокировала улицы, а в некоторых районах города были задержаны около 300 человек. summary: В Германии прошли массовые акции протеста против антивирусных мер. Полиция блокировала улицы, а в некоторых районах города прошли массовые акции протеста против антивирусных мер. В российском посольстве в Берлине говорят, что большинство полицейских были направлены к российскому посольству. Полиция блокировала улицы, а в некоторых районах города были задержаны около 300 человек. Протестующие требовали ослабить или отменить ограничения движения. В российском посольстве в Берлине говорят, что часть полицейских была направлена к российскому посольству. В российском посольстве в Берлине говорят, что большинство полицейских были направлены к российскому посольству. summary: В Германии прошли массовые акции протеста против антивирусных мер. Полиция блокировала улицы Берлина'"
      ]
     },
     "execution_count": 28,
     "metadata": {},
     "output_type": "execute_result"
    }
   ],
   "source": [
    "pred_fit[0][0]"
   ]
  },
  {
   "cell_type": "code",
   "execution_count": 25,
   "id": "3a1ec1a9",
   "metadata": {},
   "outputs": [
    {
     "data": {
      "application/vnd.jupyter.widget-view+json": {
       "model_id": "34b07fee86f74bc096502c10504232bf",
       "version_major": 2,
       "version_minor": 0
      },
      "text/plain": [
       "Map:   0%|          | 0/5000 [00:00<?, ? examples/s]"
      ]
     },
     "metadata": {},
     "output_type": "display_data"
    },
    {
     "data": {
      "application/vnd.jupyter.widget-view+json": {
       "model_id": "d73567ef9a004b8985ce8b39088d8ca0",
       "version_major": 2,
       "version_minor": 0
      },
      "text/plain": [
       "Map:   0%|          | 0/100 [00:00<?, ? examples/s]"
      ]
     },
     "metadata": {},
     "output_type": "display_data"
    },
    {
     "data": {
      "application/vnd.jupyter.widget-view+json": {
       "model_id": "f3623e4d6cb844428ac862f9d56924d2",
       "version_major": 2,
       "version_minor": 0
      },
      "text/plain": [
       "Map:   0%|          | 0/100 [00:00<?, ? examples/s]"
      ]
     },
     "metadata": {},
     "output_type": "display_data"
    },
    {
     "name": "stderr",
     "output_type": "stream",
     "text": [
      "LOCAL_RANK: 0 - CUDA_VISIBLE_DEVICES: [0]\n"
     ]
    },
    {
     "data": {
      "application/vnd.jupyter.widget-view+json": {
       "model_id": "0691f36fd7304d7dacf4b8d83da72da7",
       "version_major": 2,
       "version_minor": 0
      },
      "text/plain": [
       "Testing: |                                                | 0/? [00:00<?, ?it/s]"
      ]
     },
     "metadata": {},
     "output_type": "display_data"
    },
    {
     "data": {
      "text/html": [
       "<pre style=\"white-space:pre;overflow-x:auto;line-height:normal;font-family:Menlo,'DejaVu Sans Mono',consolas,'Courier New',monospace\">┏━━━━━━━━━━━━━━━━━━━━━━━━━━━┳━━━━━━━━━━━━━━━━━━━━━━━━━━━┓\n",
       "┃<span style=\"font-weight: bold\">        Test metric        </span>┃<span style=\"font-weight: bold\">       DataLoader 0        </span>┃\n",
       "┡━━━━━━━━━━━━━━━━━━━━━━━━━━━╇━━━━━━━━━━━━━━━━━━━━━━━━━━━┩\n",
       "│<span style=\"color: #008080; text-decoration-color: #008080\">           bleu            </span>│<span style=\"color: #800080; text-decoration-color: #800080\">    0.03614148497581482    </span>│\n",
       "└───────────────────────────┴───────────────────────────┘\n",
       "</pre>\n"
      ],
      "text/plain": [
       "┏━━━━━━━━━━━━━━━━━━━━━━━━━━━┳━━━━━━━━━━━━━━━━━━━━━━━━━━━┓\n",
       "┃\u001b[1m \u001b[0m\u001b[1m       Test metric       \u001b[0m\u001b[1m \u001b[0m┃\u001b[1m \u001b[0m\u001b[1m      DataLoader 0       \u001b[0m\u001b[1m \u001b[0m┃\n",
       "┡━━━━━━━━━━━━━━━━━━━━━━━━━━━╇━━━━━━━━━━━━━━━━━━━━━━━━━━━┩\n",
       "│\u001b[36m \u001b[0m\u001b[36m          bleu           \u001b[0m\u001b[36m \u001b[0m│\u001b[35m \u001b[0m\u001b[35m   0.03614148497581482   \u001b[0m\u001b[35m \u001b[0m│\n",
       "└───────────────────────────┴───────────────────────────┘\n"
      ]
     },
     "metadata": {},
     "output_type": "display_data"
    },
    {
     "data": {
      "text/plain": [
       "[{'bleu': 0.03614148497581482}]"
      ]
     },
     "execution_count": 25,
     "metadata": {},
     "output_type": "execute_result"
    }
   ],
   "source": [
    "trainer.test(model=gen_model, datamodule=gen_dm)"
   ]
  },
  {
   "cell_type": "code",
   "execution_count": null,
   "id": "10f7261f",
   "metadata": {},
   "outputs": [],
   "source": []
  },
  {
   "cell_type": "code",
   "execution_count": 26,
   "id": "54d2ff03",
   "metadata": {},
   "outputs": [],
   "source": [
    "#### 2 epohs"
   ]
  },
  {
   "cell_type": "code",
   "execution_count": 14,
   "id": "9a8aae77",
   "metadata": {},
   "outputs": [
    {
     "data": {
      "application/vnd.jupyter.widget-view+json": {
       "model_id": "90d6a02e76204c8f8f6d74976dbc92c6",
       "version_major": 2,
       "version_minor": 0
      },
      "text/plain": [
       "Map:   0%|          | 0/5000 [00:00<?, ? examples/s]"
      ]
     },
     "metadata": {},
     "output_type": "display_data"
    },
    {
     "data": {
      "application/vnd.jupyter.widget-view+json": {
       "model_id": "63b843b03c0c41b2929da403d38f9bd0",
       "version_major": 2,
       "version_minor": 0
      },
      "text/plain": [
       "Map:   0%|          | 0/100 [00:00<?, ? examples/s]"
      ]
     },
     "metadata": {},
     "output_type": "display_data"
    },
    {
     "data": {
      "application/vnd.jupyter.widget-view+json": {
       "model_id": "06b9e05a32b64f25909088482ca7ac37",
       "version_major": 2,
       "version_minor": 0
      },
      "text/plain": [
       "Map:   0%|          | 0/100 [00:00<?, ? examples/s]"
      ]
     },
     "metadata": {},
     "output_type": "display_data"
    },
    {
     "name": "stderr",
     "output_type": "stream",
     "text": [
      "LOCAL_RANK: 0 - CUDA_VISIBLE_DEVICES: [0]\n",
      "\n",
      "  | Name  | Type            | Params\n",
      "------------------------------------------\n",
      "0 | model | GPT2LMHeadModel | 125 M \n",
      "------------------------------------------\n",
      "125 M     Trainable params\n",
      "0         Non-trainable params\n",
      "125 M     Total params\n",
      "500.926   Total estimated model params size (MB)\n"
     ]
    },
    {
     "data": {
      "application/vnd.jupyter.widget-view+json": {
       "model_id": "",
       "version_major": 2,
       "version_minor": 0
      },
      "text/plain": [
       "Sanity Checking: |                                        | 0/? [00:00<?, ?it/s]"
      ]
     },
     "metadata": {},
     "output_type": "display_data"
    },
    {
     "data": {
      "application/vnd.jupyter.widget-view+json": {
       "model_id": "012dbd6930da4caba96e144f76e34853",
       "version_major": 2,
       "version_minor": 0
      },
      "text/plain": [
       "Training: |                                               | 0/? [00:00<?, ?it/s]"
      ]
     },
     "metadata": {},
     "output_type": "display_data"
    },
    {
     "data": {
      "application/vnd.jupyter.widget-view+json": {
       "model_id": "",
       "version_major": 2,
       "version_minor": 0
      },
      "text/plain": [
       "Validation: |                                             | 0/? [00:00<?, ?it/s]"
      ]
     },
     "metadata": {},
     "output_type": "display_data"
    },
    {
     "data": {
      "application/vnd.jupyter.widget-view+json": {
       "model_id": "",
       "version_major": 2,
       "version_minor": 0
      },
      "text/plain": [
       "Validation: |                                             | 0/? [00:00<?, ?it/s]"
      ]
     },
     "metadata": {},
     "output_type": "display_data"
    },
    {
     "name": "stderr",
     "output_type": "stream",
     "text": [
      "`Trainer.fit` stopped: `max_epochs=2` reached.\n"
     ]
    }
   ],
   "source": [
    "trainer.fit(model=gen_model, datamodule=gen_dm)"
   ]
  },
  {
   "cell_type": "code",
   "execution_count": 15,
   "id": "be762da8",
   "metadata": {},
   "outputs": [
    {
     "data": {
      "application/vnd.jupyter.widget-view+json": {
       "model_id": "e6b884b941a14edea38ddc90419bc0ed",
       "version_major": 2,
       "version_minor": 0
      },
      "text/plain": [
       "Map:   0%|          | 0/5000 [00:00<?, ? examples/s]"
      ]
     },
     "metadata": {},
     "output_type": "display_data"
    },
    {
     "data": {
      "application/vnd.jupyter.widget-view+json": {
       "model_id": "7091103df12147eea3485c5ad5a132a3",
       "version_major": 2,
       "version_minor": 0
      },
      "text/plain": [
       "Map:   0%|          | 0/100 [00:00<?, ? examples/s]"
      ]
     },
     "metadata": {},
     "output_type": "display_data"
    },
    {
     "data": {
      "application/vnd.jupyter.widget-view+json": {
       "model_id": "e677fb6f34c94def82b40f9fb30421ac",
       "version_major": 2,
       "version_minor": 0
      },
      "text/plain": [
       "Map:   0%|          | 0/100 [00:00<?, ? examples/s]"
      ]
     },
     "metadata": {},
     "output_type": "display_data"
    },
    {
     "name": "stderr",
     "output_type": "stream",
     "text": [
      "LOCAL_RANK: 0 - CUDA_VISIBLE_DEVICES: [0]\n"
     ]
    },
    {
     "data": {
      "application/vnd.jupyter.widget-view+json": {
       "model_id": "fae555a5ad8b4f86a33a3c42417065c3",
       "version_major": 2,
       "version_minor": 0
      },
      "text/plain": [
       "Predicting: |                                             | 0/? [00:00<?, ?it/s]"
      ]
     },
     "metadata": {},
     "output_type": "display_data"
    }
   ],
   "source": [
    "pred_fit = trainer.predict(model=gen_model, datamodule=gen_dm)"
   ]
  },
  {
   "cell_type": "code",
   "execution_count": 20,
   "id": "ab3a6842",
   "metadata": {},
   "outputs": [
    {
     "data": {
      "text/plain": [
       "' подобных стрельб нашими военными у границ США?» — указали в заявлении дипмиссии. В Эстонии с 1 по 10 сентября пройдут совместные стрельбы пехотной бригады ВС прибалтийской страны и 41-й бригады полевой артиллерии армии Соединенных Штатов. Это первые боевые стрельбы американской артиллерии за пределами постоянного базирования в Европе. В середине прошлого месяца в НАТО заявили, что альянс не наращивает военное присутствие в Восточной Европе. По словам официального представителя военно-политического блока Оаны Лунгеску, многонациональное присутствие НАТО в восточной части Североатлантического союза не представляет угрозы ни для одного государства. Она также уточнила, что присутствие альянса «носит строго оборонительный, пропорциональный характер и предназначено для предотвращения конфликтов и сохранения мира». Незадолго до этого министр обороны США Марк Эспер, выступая на ежегодном форуме по безопасности, организованном Аспенским институтом, обвинил российские власти в том, что они вынудили Вашингтон и НАТО выстраивать политику сдерживания в отношении Москвы. По словам главы Пентагона, действия РФ «привлекают внимание НАТО». «К сожалению, мы оказались в ситуации, когда мы вынуждены отвечать, сдерживать их (Россию — «Газета.Ru»). Это подразумевает выделение на эти цели средств и личного состава, поиск иных возможностей противостоять России», — констатировал Эспер. Он отметил, что в Европе существует конфликт, и Вашингтон продолжит защищать демократические государства, которые считает своими союзниками. «Россия заострила на себе наше внимание, поэтому мы должны принимать меры по отношению к ней, где бы она ни проявляла активность», — сказал глава американского оборонного ведомства. Он также заявил, что США намерены добиваться дальнейшего наращивания сил на восточном фланге Североатлантического альянса. По его словам, Вашингтон перебрасывает силы дальше на восток в направлении самых новых членов альянса. Эспер отметил, что НАТО добивается наращивания сил на северо-восточном фланге, в Прибалтике и Польше. Глава военного ведомства напомнил, что ранее было объявлено о договоренностях с Варшавой, которые предполагают размещение на территории Польши дополнительно 1 тыс. американских военнослужащих. Пресс-секретарь президента России Дмитрий Песков ранее называл угрозой для России готовность Польши предоставить территорию для размещения военной инфраструктуры других стран и блоков. При этом он уточнил, что сама по себе Польша вряд ли представляет угрозу для России. Как обратил внимание официальный представитель Кремля, российская сторона всегда последовательно указывала на нежелательность и опасность «последовательного дрейфа» военной инфраструктуры НАТО в сторону границ РФ. По его словам, это вынуждает Москву «принимать меры, необходимые для гарантированного обеспечения безопасности» России. summary: Россия и НАТО договорились о расширении военного присутствия в Восточной Европе. Вступление в альянс России и НАТО в Прибалтике и Польше — это первый шаг к сближению. Вступление в альянс России и НАТО в Прибалтике и Польше — это первый шаг к сближению. Вступление в альянс России и НАТО в Польше — это первый шаг к сближению. Вступление в альянс России и НАТО в Прибалтике и Польше — это первый шаг к сближению. Вступление в альянс России и НАТО в Прибалтике и Польше — это первый шаг к сближению. Вступление в альянс России и НАТО в Прибалтике и Польше — это первый шаг к сближению. Вступление в альянс России и НАТО в Польше — это первый шаг к сближению. Вступление в альянс России и НАТО в Прибалтике и Польше — это первый шаг к сближению. summary: Россия и НАТО договорились о расширении военного присутствия в Восточной Европе. Вступление в альянс России и НАТО'"
      ]
     },
     "execution_count": 20,
     "metadata": {},
     "output_type": "execute_result"
    }
   ],
   "source": [
    "pred_fit[0][3]"
   ]
  },
  {
   "cell_type": "code",
   "execution_count": 17,
   "id": "2f498a2f",
   "metadata": {},
   "outputs": [
    {
     "data": {
      "application/vnd.jupyter.widget-view+json": {
       "model_id": "2e095058cf11421ba4408a5a889c4521",
       "version_major": 2,
       "version_minor": 0
      },
      "text/plain": [
       "Map:   0%|          | 0/5000 [00:00<?, ? examples/s]"
      ]
     },
     "metadata": {},
     "output_type": "display_data"
    },
    {
     "data": {
      "application/vnd.jupyter.widget-view+json": {
       "model_id": "d651d819f1904690a13417115c45b95b",
       "version_major": 2,
       "version_minor": 0
      },
      "text/plain": [
       "Map:   0%|          | 0/100 [00:00<?, ? examples/s]"
      ]
     },
     "metadata": {},
     "output_type": "display_data"
    },
    {
     "data": {
      "application/vnd.jupyter.widget-view+json": {
       "model_id": "cd22e7d280f646559c2d2b5730d81cc9",
       "version_major": 2,
       "version_minor": 0
      },
      "text/plain": [
       "Map:   0%|          | 0/100 [00:00<?, ? examples/s]"
      ]
     },
     "metadata": {},
     "output_type": "display_data"
    },
    {
     "name": "stderr",
     "output_type": "stream",
     "text": [
      "LOCAL_RANK: 0 - CUDA_VISIBLE_DEVICES: [0]\n"
     ]
    },
    {
     "data": {
      "application/vnd.jupyter.widget-view+json": {
       "model_id": "e640eb9209504d9399f815d7c21ea69a",
       "version_major": 2,
       "version_minor": 0
      },
      "text/plain": [
       "Testing: |                                                | 0/? [00:00<?, ?it/s]"
      ]
     },
     "metadata": {},
     "output_type": "display_data"
    },
    {
     "data": {
      "text/html": [
       "<pre style=\"white-space:pre;overflow-x:auto;line-height:normal;font-family:Menlo,'DejaVu Sans Mono',consolas,'Courier New',monospace\">┏━━━━━━━━━━━━━━━━━━━━━━━━━━━┳━━━━━━━━━━━━━━━━━━━━━━━━━━━┓\n",
       "┃<span style=\"font-weight: bold\">        Test metric        </span>┃<span style=\"font-weight: bold\">       DataLoader 0        </span>┃\n",
       "┡━━━━━━━━━━━━━━━━━━━━━━━━━━━╇━━━━━━━━━━━━━━━━━━━━━━━━━━━┩\n",
       "│<span style=\"color: #008080; text-decoration-color: #008080\">           bleu            </span>│<span style=\"color: #800080; text-decoration-color: #800080\">    0.03541657701134682    </span>│\n",
       "└───────────────────────────┴───────────────────────────┘\n",
       "</pre>\n"
      ],
      "text/plain": [
       "┏━━━━━━━━━━━━━━━━━━━━━━━━━━━┳━━━━━━━━━━━━━━━━━━━━━━━━━━━┓\n",
       "┃\u001b[1m \u001b[0m\u001b[1m       Test metric       \u001b[0m\u001b[1m \u001b[0m┃\u001b[1m \u001b[0m\u001b[1m      DataLoader 0       \u001b[0m\u001b[1m \u001b[0m┃\n",
       "┡━━━━━━━━━━━━━━━━━━━━━━━━━━━╇━━━━━━━━━━━━━━━━━━━━━━━━━━━┩\n",
       "│\u001b[36m \u001b[0m\u001b[36m          bleu           \u001b[0m\u001b[36m \u001b[0m│\u001b[35m \u001b[0m\u001b[35m   0.03541657701134682   \u001b[0m\u001b[35m \u001b[0m│\n",
       "└───────────────────────────┴───────────────────────────┘\n"
      ]
     },
     "metadata": {},
     "output_type": "display_data"
    },
    {
     "data": {
      "text/plain": [
       "[{'bleu': 0.03541657701134682}]"
      ]
     },
     "execution_count": 17,
     "metadata": {},
     "output_type": "execute_result"
    }
   ],
   "source": [
    "trainer.test(model=gen_model, datamodule=gen_dm)"
   ]
  },
  {
   "cell_type": "code",
   "execution_count": null,
   "id": "e4cac7d7",
   "metadata": {},
   "outputs": [],
   "source": []
  }
 ],
 "metadata": {
  "kernelspec": {
   "display_name": "Python 3 (ipykernel)",
   "language": "python",
   "name": "python3"
  },
  "language_info": {
   "codemirror_mode": {
    "name": "ipython",
    "version": 3
   },
   "file_extension": ".py",
   "mimetype": "text/x-python",
   "name": "python",
   "nbconvert_exporter": "python",
   "pygments_lexer": "ipython3",
   "version": "3.8.10"
  }
 },
 "nbformat": 4,
 "nbformat_minor": 5
}
