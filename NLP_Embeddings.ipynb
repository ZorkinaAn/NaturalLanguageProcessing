{
 "cells": [
  {
   "cell_type": "markdown",
   "id": "f09245d6",
   "metadata": {},
   "source": [
    "# Задание\n",
    "\n",
    "Обучить модель ML-классификатор на данных train_10000.json в различных режимах:\n",
    "\n",
    "- с обученными на этих данных эмбеддингами\n",
    "- с предобученными эмбеддингами (https://rusvectores.org/ru/models/)\n",
    "- с эмбеддингами от предобученной модели\n",
    "\n",
    "Сделать submission с результатами. Также представить jupyter notebook, в котором результаты были получены"
   ]
  },
  {
   "cell_type": "code",
   "execution_count": 9,
   "id": "515c6225",
   "metadata": {},
   "outputs": [],
   "source": [
    "from gensim.models import Word2Vec\n",
    "from sklearn.svm import LinearSVC\n",
    "from sklearn.metrics import accuracy_score\n",
    "import gensim\n",
    "import numpy as np\n",
    "import pandas as pd\n",
    "import os\n",
    "import csv\n",
    "import re\n",
    "from transformers import AutoTokenizer, AutoModel\n",
    "import torch\n",
    "from tqdm import tqdm\n",
    "from transformers import BertTokenizer, BertModel"
   ]
  },
  {
   "cell_type": "code",
   "execution_count": 6,
   "id": "109d39b5",
   "metadata": {},
   "outputs": [],
   "source": [
    "os.environ[\"http_proxy\"] = \"http://proxy.ad.speechpro.com:3128\"\n",
    "os.environ[\"https_proxy\"] = \"http://proxy.ad.speechpro.com:3128\"\n",
    "os.environ[\"ftp_proxy\"] = \"http://proxy.ad.speechpro.com:3128\""
   ]
  },
  {
   "cell_type": "code",
   "execution_count": 22,
   "id": "51b90b6b",
   "metadata": {},
   "outputs": [],
   "source": [
    "def clean_text(text):\n",
    "    s = text.lower()\n",
    "    s = re.sub(\"[^а-яА-Яa-zA-Z0-9]\", \" \", s)\n",
    "    s = re.sub(\"\\s+\", \" \", s)\n",
    "    s = s.strip()\n",
    "    return s\n",
    "\n",
    "def read_json_data(filename):\n",
    "    df = pd.read_json(filename)\n",
    "    texts = []\n",
    "    labels = []\n",
    "    for col in df.columns:\n",
    "        for title, text in zip(df[col]['titles'], df[col]['texts']):\n",
    "            texts.append(clean_text(title + ' ' + text))\n",
    "            labels.append(col)\n",
    "    df = pd.DataFrame({\"label\": labels, \"text\": texts})\n",
    "    return df"
   ]
  },
  {
   "cell_type": "code",
   "execution_count": 23,
   "id": "6e0c3099",
   "metadata": {},
   "outputs": [],
   "source": [
    "train_df = read_json_data(\"archive/train_10000.json\")"
   ]
  },
  {
   "cell_type": "code",
   "execution_count": 24,
   "id": "99bb44ea",
   "metadata": {},
   "outputs": [],
   "source": [
    "test_df = pd.read_csv(\"archive/test.csv\")\n",
    "test_df['alltext'] = test_df['title'] + ' ' + test_df['text']"
   ]
  },
  {
   "cell_type": "code",
   "execution_count": 25,
   "id": "73248e34",
   "metadata": {},
   "outputs": [],
   "source": [
    "labels_to_id = {\n",
    "            'Экономика': 0, \n",
    "            'Спорт': 1, \n",
    "            'Культура': 2, \n",
    "            'Наука и техника': 3,\n",
    "            'Наукаитехника': 3,\n",
    "        }\n",
    "id_to_labels = {\n",
    "            0: 'Экономика', \n",
    "            1: 'Спорт', \n",
    "            2: 'Культура', \n",
    "            3: 'Наука и техника'\n",
    "        }"
   ]
  },
  {
   "cell_type": "markdown",
   "id": "59f40a72",
   "metadata": {},
   "source": [
    "## Обученные на этих данных эмбеддинги (Word2Vec)"
   ]
  },
  {
   "cell_type": "code",
   "execution_count": 14,
   "id": "0e662f66",
   "metadata": {},
   "outputs": [],
   "source": [
    "w2v_model = Word2Vec(sentences=[r.split() for r in train_df.text], vector_size=100, window=5, min_count=1, workers=4)"
   ]
  },
  {
   "cell_type": "code",
   "execution_count": 19,
   "id": "d7bb9282",
   "metadata": {},
   "outputs": [
    {
     "data": {
      "text/plain": [
       "[('woman', 0.9497174620628357),\n",
       " ('are', 0.9484232068061829),\n",
       " ('your', 0.944129467010498),\n",
       " ('got', 0.9431295394897461),\n",
       " ('little', 0.9427224397659302),\n",
       " ('way', 0.941563606262207),\n",
       " ('that', 0.9404558539390564),\n",
       " ('how', 0.9403867125511169),\n",
       " ('fun', 0.9397619962692261),\n",
       " ('luck', 0.9395718574523926)]"
      ]
     },
     "execution_count": 19,
     "metadata": {},
     "output_type": "execute_result"
    }
   ],
   "source": [
    "sims = w2v_model.wv.most_similar('girl', topn=10)\n",
    "sims"
   ]
  },
  {
   "cell_type": "code",
   "execution_count": 21,
   "id": "f81c3d5e",
   "metadata": {},
   "outputs": [],
   "source": [
    "train_features = []\n",
    "for r in train_df.text:\n",
    "    vectors = []\n",
    "    for w in r:\n",
    "        if w in w2v_model.wv:\n",
    "            v = w2v_model.wv[w]\n",
    "            vectors.append(v)\n",
    "    vectors = np.array(vectors)\n",
    "    feature = np.average(vectors, axis=0)\n",
    "    train_features.append(feature)\n",
    "train_features = np.array(train_features)"
   ]
  },
  {
   "cell_type": "code",
   "execution_count": 48,
   "id": "a651210a",
   "metadata": {},
   "outputs": [],
   "source": [
    "test_features = []\n",
    "for r in test_df.alltext:\n",
    "    vectors = []\n",
    "    for w in r:\n",
    "        if w in w2v_model.wv:\n",
    "            v = w2v_model.wv[w]\n",
    "            vectors.append(v)\n",
    "    vectors = np.array(vectors)\n",
    "    feature = np.average(vectors, axis=0)\n",
    "    test_features.append(feature)\n",
    "test_features = np.array(test_features)"
   ]
  },
  {
   "cell_type": "code",
   "execution_count": 32,
   "id": "4f8b873c",
   "metadata": {},
   "outputs": [],
   "source": [
    "train_labels = [labels_to_id[l] for l in train_df.label]"
   ]
  },
  {
   "cell_type": "code",
   "execution_count": 33,
   "id": "de862ba6",
   "metadata": {},
   "outputs": [],
   "source": [
    "test_labels = pd.read_table(\"ground_truth.txt\", delimiter=',')\n",
    "test_labels = [labels_to_id[l] for l in test_labels.Category]"
   ]
  },
  {
   "cell_type": "code",
   "execution_count": 32,
   "id": "59a6bbb2",
   "metadata": {},
   "outputs": [
    {
     "data": {
      "text/html": [
       "<style>#sk-container-id-1 {color: black;background-color: white;}#sk-container-id-1 pre{padding: 0;}#sk-container-id-1 div.sk-toggleable {background-color: white;}#sk-container-id-1 label.sk-toggleable__label {cursor: pointer;display: block;width: 100%;margin-bottom: 0;padding: 0.3em;box-sizing: border-box;text-align: center;}#sk-container-id-1 label.sk-toggleable__label-arrow:before {content: \"▸\";float: left;margin-right: 0.25em;color: #696969;}#sk-container-id-1 label.sk-toggleable__label-arrow:hover:before {color: black;}#sk-container-id-1 div.sk-estimator:hover label.sk-toggleable__label-arrow:before {color: black;}#sk-container-id-1 div.sk-toggleable__content {max-height: 0;max-width: 0;overflow: hidden;text-align: left;background-color: #f0f8ff;}#sk-container-id-1 div.sk-toggleable__content pre {margin: 0.2em;color: black;border-radius: 0.25em;background-color: #f0f8ff;}#sk-container-id-1 input.sk-toggleable__control:checked~div.sk-toggleable__content {max-height: 200px;max-width: 100%;overflow: auto;}#sk-container-id-1 input.sk-toggleable__control:checked~label.sk-toggleable__label-arrow:before {content: \"▾\";}#sk-container-id-1 div.sk-estimator input.sk-toggleable__control:checked~label.sk-toggleable__label {background-color: #d4ebff;}#sk-container-id-1 div.sk-label input.sk-toggleable__control:checked~label.sk-toggleable__label {background-color: #d4ebff;}#sk-container-id-1 input.sk-hidden--visually {border: 0;clip: rect(1px 1px 1px 1px);clip: rect(1px, 1px, 1px, 1px);height: 1px;margin: -1px;overflow: hidden;padding: 0;position: absolute;width: 1px;}#sk-container-id-1 div.sk-estimator {font-family: monospace;background-color: #f0f8ff;border: 1px dotted black;border-radius: 0.25em;box-sizing: border-box;margin-bottom: 0.5em;}#sk-container-id-1 div.sk-estimator:hover {background-color: #d4ebff;}#sk-container-id-1 div.sk-parallel-item::after {content: \"\";width: 100%;border-bottom: 1px solid gray;flex-grow: 1;}#sk-container-id-1 div.sk-label:hover label.sk-toggleable__label {background-color: #d4ebff;}#sk-container-id-1 div.sk-serial::before {content: \"\";position: absolute;border-left: 1px solid gray;box-sizing: border-box;top: 0;bottom: 0;left: 50%;z-index: 0;}#sk-container-id-1 div.sk-serial {display: flex;flex-direction: column;align-items: center;background-color: white;padding-right: 0.2em;padding-left: 0.2em;position: relative;}#sk-container-id-1 div.sk-item {position: relative;z-index: 1;}#sk-container-id-1 div.sk-parallel {display: flex;align-items: stretch;justify-content: center;background-color: white;position: relative;}#sk-container-id-1 div.sk-item::before, #sk-container-id-1 div.sk-parallel-item::before {content: \"\";position: absolute;border-left: 1px solid gray;box-sizing: border-box;top: 0;bottom: 0;left: 50%;z-index: -1;}#sk-container-id-1 div.sk-parallel-item {display: flex;flex-direction: column;z-index: 1;position: relative;background-color: white;}#sk-container-id-1 div.sk-parallel-item:first-child::after {align-self: flex-end;width: 50%;}#sk-container-id-1 div.sk-parallel-item:last-child::after {align-self: flex-start;width: 50%;}#sk-container-id-1 div.sk-parallel-item:only-child::after {width: 0;}#sk-container-id-1 div.sk-dashed-wrapped {border: 1px dashed gray;margin: 0 0.4em 0.5em 0.4em;box-sizing: border-box;padding-bottom: 0.4em;background-color: white;}#sk-container-id-1 div.sk-label label {font-family: monospace;font-weight: bold;display: inline-block;line-height: 1.2em;}#sk-container-id-1 div.sk-label-container {text-align: center;}#sk-container-id-1 div.sk-container {/* jupyter's `normalize.less` sets `[hidden] { display: none; }` but bootstrap.min.css set `[hidden] { display: none !important; }` so we also need the `!important` here to be able to override the default hidden behavior on the sphinx rendered scikit-learn.org. See: https://github.com/scikit-learn/scikit-learn/issues/21755 */display: inline-block !important;position: relative;}#sk-container-id-1 div.sk-text-repr-fallback {display: none;}</style><div id=\"sk-container-id-1\" class=\"sk-top-container\"><div class=\"sk-text-repr-fallback\"><pre>LinearSVC(dual=False)</pre><b>In a Jupyter environment, please rerun this cell to show the HTML representation or trust the notebook. <br />On GitHub, the HTML representation is unable to render, please try loading this page with nbviewer.org.</b></div><div class=\"sk-container\" hidden><div class=\"sk-item\"><div class=\"sk-estimator sk-toggleable\"><input class=\"sk-toggleable__control sk-hidden--visually\" id=\"sk-estimator-id-1\" type=\"checkbox\" checked><label for=\"sk-estimator-id-1\" class=\"sk-toggleable__label sk-toggleable__label-arrow\">LinearSVC</label><div class=\"sk-toggleable__content\"><pre>LinearSVC(dual=False)</pre></div></div></div></div></div>"
      ],
      "text/plain": [
       "LinearSVC(dual=False)"
      ]
     },
     "execution_count": 32,
     "metadata": {},
     "output_type": "execute_result"
    }
   ],
   "source": [
    "svm_cls = LinearSVC(loss=\"squared_hinge\", C=1.0, dual=False)\n",
    "svm_cls.fit(train_features, train_labels)"
   ]
  },
  {
   "cell_type": "code",
   "execution_count": 49,
   "id": "98bdf4f6",
   "metadata": {},
   "outputs": [
    {
     "data": {
      "text/plain": [
       "0.5611510791366906"
      ]
     },
     "execution_count": 49,
     "metadata": {},
     "output_type": "execute_result"
    }
   ],
   "source": [
    "preds = svm_cls.predict(test_features)\n",
    "accuracy_score(test_labels, preds)"
   ]
  },
  {
   "cell_type": "markdown",
   "id": "374f7e3f",
   "metadata": {},
   "source": [
    "## Предобученные эмеддинги (FastText)"
   ]
  },
  {
   "cell_type": "code",
   "execution_count": null,
   "id": "f85ddc2c",
   "metadata": {},
   "outputs": [],
   "source": [
    "import zipfile\n",
    "\n",
    "!wget --no-check-certificate 'http://vectors.nlpl.eu/repository/20/213.zip' -O 213.zip\n"
   ]
  },
  {
   "cell_type": "code",
   "execution_count": 53,
   "id": "f069638e",
   "metadata": {},
   "outputs": [],
   "source": [
    "extract_dir = 'fasttext'\n",
    "with zipfile.ZipFile('213.zip') as zf:\n",
    "    zf.extractall(extract_dir)"
   ]
  },
  {
   "cell_type": "code",
   "execution_count": 54,
   "id": "84ff12ba",
   "metadata": {},
   "outputs": [],
   "source": [
    "model_path = os.path.join(extract_dir,'model.model')"
   ]
  },
  {
   "cell_type": "code",
   "execution_count": 57,
   "id": "9afaf62b",
   "metadata": {},
   "outputs": [],
   "source": [
    "model_ft_pred = gensim.models.KeyedVectors.load(model_path)"
   ]
  },
  {
   "cell_type": "code",
   "execution_count": 67,
   "id": "cc455d2d",
   "metadata": {},
   "outputs": [],
   "source": [
    "train_features = []\n",
    "for text in train_df.text:\n",
    "    vectors = []           \n",
    "    vectors.append(np.zeros(model_ft_pred.vector_size))\n",
    "\n",
    "    for word in text.split():\n",
    "        if word in model_ft_pred.key_to_index:\n",
    "            vector = model_ft_pred[model_ft_pred.key_to_index[word]]\n",
    "            vectors.append(vector)\n",
    "\n",
    "    vectors = np.array(vectors)       \n",
    "    feature = np.average(vectors, axis=0)\n",
    "    train_features.append(feature)\n",
    "    \n",
    "train_features = np.array(train_features)"
   ]
  },
  {
   "cell_type": "code",
   "execution_count": 68,
   "id": "b749e4ca",
   "metadata": {},
   "outputs": [],
   "source": [
    "test_features = []\n",
    "for text in test_df.alltext:\n",
    "    vectors = []           \n",
    "    vectors.append(np.zeros(model_ft_pred.vector_size))\n",
    "\n",
    "    for word in text.split():\n",
    "        if word in model_ft_pred.key_to_index:\n",
    "            vector = model_ft_pred[model_ft_pred.key_to_index[word]]\n",
    "            vectors.append(vector)\n",
    "\n",
    "    vectors = np.array(vectors)       \n",
    "    feature = np.average(vectors, axis=0)\n",
    "    test_features.append(feature)\n",
    "    \n",
    "test_features = np.array(test_features)"
   ]
  },
  {
   "cell_type": "code",
   "execution_count": 69,
   "id": "f368a9ec",
   "metadata": {},
   "outputs": [
    {
     "data": {
      "text/html": [
       "<style>#sk-container-id-3 {color: black;background-color: white;}#sk-container-id-3 pre{padding: 0;}#sk-container-id-3 div.sk-toggleable {background-color: white;}#sk-container-id-3 label.sk-toggleable__label {cursor: pointer;display: block;width: 100%;margin-bottom: 0;padding: 0.3em;box-sizing: border-box;text-align: center;}#sk-container-id-3 label.sk-toggleable__label-arrow:before {content: \"▸\";float: left;margin-right: 0.25em;color: #696969;}#sk-container-id-3 label.sk-toggleable__label-arrow:hover:before {color: black;}#sk-container-id-3 div.sk-estimator:hover label.sk-toggleable__label-arrow:before {color: black;}#sk-container-id-3 div.sk-toggleable__content {max-height: 0;max-width: 0;overflow: hidden;text-align: left;background-color: #f0f8ff;}#sk-container-id-3 div.sk-toggleable__content pre {margin: 0.2em;color: black;border-radius: 0.25em;background-color: #f0f8ff;}#sk-container-id-3 input.sk-toggleable__control:checked~div.sk-toggleable__content {max-height: 200px;max-width: 100%;overflow: auto;}#sk-container-id-3 input.sk-toggleable__control:checked~label.sk-toggleable__label-arrow:before {content: \"▾\";}#sk-container-id-3 div.sk-estimator input.sk-toggleable__control:checked~label.sk-toggleable__label {background-color: #d4ebff;}#sk-container-id-3 div.sk-label input.sk-toggleable__control:checked~label.sk-toggleable__label {background-color: #d4ebff;}#sk-container-id-3 input.sk-hidden--visually {border: 0;clip: rect(1px 1px 1px 1px);clip: rect(1px, 1px, 1px, 1px);height: 1px;margin: -1px;overflow: hidden;padding: 0;position: absolute;width: 1px;}#sk-container-id-3 div.sk-estimator {font-family: monospace;background-color: #f0f8ff;border: 1px dotted black;border-radius: 0.25em;box-sizing: border-box;margin-bottom: 0.5em;}#sk-container-id-3 div.sk-estimator:hover {background-color: #d4ebff;}#sk-container-id-3 div.sk-parallel-item::after {content: \"\";width: 100%;border-bottom: 1px solid gray;flex-grow: 1;}#sk-container-id-3 div.sk-label:hover label.sk-toggleable__label {background-color: #d4ebff;}#sk-container-id-3 div.sk-serial::before {content: \"\";position: absolute;border-left: 1px solid gray;box-sizing: border-box;top: 0;bottom: 0;left: 50%;z-index: 0;}#sk-container-id-3 div.sk-serial {display: flex;flex-direction: column;align-items: center;background-color: white;padding-right: 0.2em;padding-left: 0.2em;position: relative;}#sk-container-id-3 div.sk-item {position: relative;z-index: 1;}#sk-container-id-3 div.sk-parallel {display: flex;align-items: stretch;justify-content: center;background-color: white;position: relative;}#sk-container-id-3 div.sk-item::before, #sk-container-id-3 div.sk-parallel-item::before {content: \"\";position: absolute;border-left: 1px solid gray;box-sizing: border-box;top: 0;bottom: 0;left: 50%;z-index: -1;}#sk-container-id-3 div.sk-parallel-item {display: flex;flex-direction: column;z-index: 1;position: relative;background-color: white;}#sk-container-id-3 div.sk-parallel-item:first-child::after {align-self: flex-end;width: 50%;}#sk-container-id-3 div.sk-parallel-item:last-child::after {align-self: flex-start;width: 50%;}#sk-container-id-3 div.sk-parallel-item:only-child::after {width: 0;}#sk-container-id-3 div.sk-dashed-wrapped {border: 1px dashed gray;margin: 0 0.4em 0.5em 0.4em;box-sizing: border-box;padding-bottom: 0.4em;background-color: white;}#sk-container-id-3 div.sk-label label {font-family: monospace;font-weight: bold;display: inline-block;line-height: 1.2em;}#sk-container-id-3 div.sk-label-container {text-align: center;}#sk-container-id-3 div.sk-container {/* jupyter's `normalize.less` sets `[hidden] { display: none; }` but bootstrap.min.css set `[hidden] { display: none !important; }` so we also need the `!important` here to be able to override the default hidden behavior on the sphinx rendered scikit-learn.org. See: https://github.com/scikit-learn/scikit-learn/issues/21755 */display: inline-block !important;position: relative;}#sk-container-id-3 div.sk-text-repr-fallback {display: none;}</style><div id=\"sk-container-id-3\" class=\"sk-top-container\"><div class=\"sk-text-repr-fallback\"><pre>LinearSVC(dual=False)</pre><b>In a Jupyter environment, please rerun this cell to show the HTML representation or trust the notebook. <br />On GitHub, the HTML representation is unable to render, please try loading this page with nbviewer.org.</b></div><div class=\"sk-container\" hidden><div class=\"sk-item\"><div class=\"sk-estimator sk-toggleable\"><input class=\"sk-toggleable__control sk-hidden--visually\" id=\"sk-estimator-id-3\" type=\"checkbox\" checked><label for=\"sk-estimator-id-3\" class=\"sk-toggleable__label sk-toggleable__label-arrow\">LinearSVC</label><div class=\"sk-toggleable__content\"><pre>LinearSVC(dual=False)</pre></div></div></div></div></div>"
      ],
      "text/plain": [
       "LinearSVC(dual=False)"
      ]
     },
     "execution_count": 69,
     "metadata": {},
     "output_type": "execute_result"
    }
   ],
   "source": [
    "svm_cls = LinearSVC(loss=\"squared_hinge\", C=1.0, dual=False)\n",
    "svm_cls.fit(train_features, train_labels)"
   ]
  },
  {
   "cell_type": "code",
   "execution_count": 70,
   "id": "f5f7c806",
   "metadata": {},
   "outputs": [
    {
     "data": {
      "text/plain": [
       "0.6091127098321343"
      ]
     },
     "execution_count": 70,
     "metadata": {},
     "output_type": "execute_result"
    }
   ],
   "source": [
    "preds = svm_cls.predict(test_features)\n",
    "accuracy_score(test_labels, preds)"
   ]
  },
  {
   "cell_type": "markdown",
   "id": "5c24fdbb",
   "metadata": {},
   "source": [
    "## Эмбеддинги от предобученной модели (BERT multilingual base model)"
   ]
  },
  {
   "cell_type": "code",
   "execution_count": 15,
   "id": "5ea02fe2",
   "metadata": {},
   "outputs": [
    {
     "name": "stderr",
     "output_type": "stream",
     "text": [
      "Some weights of the model checkpoint at bert-base-multilingual-cased were not used when initializing BertModel: ['cls.predictions.bias', 'cls.predictions.transform.dense.weight', 'cls.predictions.transform.LayerNorm.bias', 'cls.seq_relationship.weight', 'cls.seq_relationship.bias', 'cls.predictions.transform.LayerNorm.weight', 'cls.predictions.transform.dense.bias']\n",
      "- This IS expected if you are initializing BertModel from the checkpoint of a model trained on another task or with another architecture (e.g. initializing a BertForSequenceClassification model from a BertForPreTraining model).\n",
      "- This IS NOT expected if you are initializing BertModel from the checkpoint of a model that you expect to be exactly identical (initializing a BertForSequenceClassification model from a BertForSequenceClassification model).\n"
     ]
    }
   ],
   "source": [
    "tokenizer = AutoTokenizer.from_pretrained(\"bert-base-multilingual-cased\")\n",
    "model = AutoModel.from_pretrained(\"bert-base-multilingual-cased\")"
   ]
  },
  {
   "cell_type": "code",
   "execution_count": 29,
   "id": "25318d8e",
   "metadata": {},
   "outputs": [],
   "source": [
    "model = model.cuda()"
   ]
  },
  {
   "cell_type": "code",
   "execution_count": 26,
   "id": "cde8ad57",
   "metadata": {},
   "outputs": [],
   "source": [
    "train_indexed = [tokenizer.encode(r, return_tensors=\"pt\", max_length=128, add_special_tokens=True, truncation=True) for r in train_df.text]"
   ]
  },
  {
   "cell_type": "code",
   "execution_count": 28,
   "id": "10a36d65",
   "metadata": {},
   "outputs": [],
   "source": [
    "test_indexed = [tokenizer.encode(r, return_tensors=\"pt\", max_length=128, add_special_tokens=True, truncation=True) for r in test_df.alltext]"
   ]
  },
  {
   "cell_type": "code",
   "execution_count": 30,
   "id": "582a9336",
   "metadata": {},
   "outputs": [
    {
     "name": "stderr",
     "output_type": "stream",
     "text": [
      "100%|█████████████████████████████████████| 36259/36259 [06:49<00:00, 88.50it/s]\n"
     ]
    }
   ],
   "source": [
    "train_features = []\n",
    "for input_ids in tqdm(train_indexed):\n",
    "    with torch.no_grad():\n",
    "        emb = model(input_ids.cuda())[0]\n",
    "        emb = emb.squeeze()[0]\n",
    "        emb = emb.tolist()\n",
    "        train_features.append(emb)"
   ]
  },
  {
   "cell_type": "code",
   "execution_count": 31,
   "id": "0f842b9a",
   "metadata": {},
   "outputs": [
    {
     "name": "stderr",
     "output_type": "stream",
     "text": [
      "100%|█████████████████████████████████████████| 417/417 [00:04<00:00, 87.64it/s]\n"
     ]
    }
   ],
   "source": [
    "test_features = []\n",
    "for input_ids in tqdm(test_indexed):\n",
    "    with torch.no_grad():\n",
    "        emb = model(input_ids.cuda())[0]\n",
    "        emb = emb.squeeze()[0]\n",
    "        emb = emb.tolist()\n",
    "        test_features.append(emb)"
   ]
  },
  {
   "cell_type": "code",
   "execution_count": 34,
   "id": "6ec78b8d",
   "metadata": {},
   "outputs": [
    {
     "data": {
      "text/html": [
       "<style>#sk-container-id-1 {color: black;background-color: white;}#sk-container-id-1 pre{padding: 0;}#sk-container-id-1 div.sk-toggleable {background-color: white;}#sk-container-id-1 label.sk-toggleable__label {cursor: pointer;display: block;width: 100%;margin-bottom: 0;padding: 0.3em;box-sizing: border-box;text-align: center;}#sk-container-id-1 label.sk-toggleable__label-arrow:before {content: \"▸\";float: left;margin-right: 0.25em;color: #696969;}#sk-container-id-1 label.sk-toggleable__label-arrow:hover:before {color: black;}#sk-container-id-1 div.sk-estimator:hover label.sk-toggleable__label-arrow:before {color: black;}#sk-container-id-1 div.sk-toggleable__content {max-height: 0;max-width: 0;overflow: hidden;text-align: left;background-color: #f0f8ff;}#sk-container-id-1 div.sk-toggleable__content pre {margin: 0.2em;color: black;border-radius: 0.25em;background-color: #f0f8ff;}#sk-container-id-1 input.sk-toggleable__control:checked~div.sk-toggleable__content {max-height: 200px;max-width: 100%;overflow: auto;}#sk-container-id-1 input.sk-toggleable__control:checked~label.sk-toggleable__label-arrow:before {content: \"▾\";}#sk-container-id-1 div.sk-estimator input.sk-toggleable__control:checked~label.sk-toggleable__label {background-color: #d4ebff;}#sk-container-id-1 div.sk-label input.sk-toggleable__control:checked~label.sk-toggleable__label {background-color: #d4ebff;}#sk-container-id-1 input.sk-hidden--visually {border: 0;clip: rect(1px 1px 1px 1px);clip: rect(1px, 1px, 1px, 1px);height: 1px;margin: -1px;overflow: hidden;padding: 0;position: absolute;width: 1px;}#sk-container-id-1 div.sk-estimator {font-family: monospace;background-color: #f0f8ff;border: 1px dotted black;border-radius: 0.25em;box-sizing: border-box;margin-bottom: 0.5em;}#sk-container-id-1 div.sk-estimator:hover {background-color: #d4ebff;}#sk-container-id-1 div.sk-parallel-item::after {content: \"\";width: 100%;border-bottom: 1px solid gray;flex-grow: 1;}#sk-container-id-1 div.sk-label:hover label.sk-toggleable__label {background-color: #d4ebff;}#sk-container-id-1 div.sk-serial::before {content: \"\";position: absolute;border-left: 1px solid gray;box-sizing: border-box;top: 0;bottom: 0;left: 50%;z-index: 0;}#sk-container-id-1 div.sk-serial {display: flex;flex-direction: column;align-items: center;background-color: white;padding-right: 0.2em;padding-left: 0.2em;position: relative;}#sk-container-id-1 div.sk-item {position: relative;z-index: 1;}#sk-container-id-1 div.sk-parallel {display: flex;align-items: stretch;justify-content: center;background-color: white;position: relative;}#sk-container-id-1 div.sk-item::before, #sk-container-id-1 div.sk-parallel-item::before {content: \"\";position: absolute;border-left: 1px solid gray;box-sizing: border-box;top: 0;bottom: 0;left: 50%;z-index: -1;}#sk-container-id-1 div.sk-parallel-item {display: flex;flex-direction: column;z-index: 1;position: relative;background-color: white;}#sk-container-id-1 div.sk-parallel-item:first-child::after {align-self: flex-end;width: 50%;}#sk-container-id-1 div.sk-parallel-item:last-child::after {align-self: flex-start;width: 50%;}#sk-container-id-1 div.sk-parallel-item:only-child::after {width: 0;}#sk-container-id-1 div.sk-dashed-wrapped {border: 1px dashed gray;margin: 0 0.4em 0.5em 0.4em;box-sizing: border-box;padding-bottom: 0.4em;background-color: white;}#sk-container-id-1 div.sk-label label {font-family: monospace;font-weight: bold;display: inline-block;line-height: 1.2em;}#sk-container-id-1 div.sk-label-container {text-align: center;}#sk-container-id-1 div.sk-container {/* jupyter's `normalize.less` sets `[hidden] { display: none; }` but bootstrap.min.css set `[hidden] { display: none !important; }` so we also need the `!important` here to be able to override the default hidden behavior on the sphinx rendered scikit-learn.org. See: https://github.com/scikit-learn/scikit-learn/issues/21755 */display: inline-block !important;position: relative;}#sk-container-id-1 div.sk-text-repr-fallback {display: none;}</style><div id=\"sk-container-id-1\" class=\"sk-top-container\"><div class=\"sk-text-repr-fallback\"><pre>LinearSVC(dual=False)</pre><b>In a Jupyter environment, please rerun this cell to show the HTML representation or trust the notebook. <br />On GitHub, the HTML representation is unable to render, please try loading this page with nbviewer.org.</b></div><div class=\"sk-container\" hidden><div class=\"sk-item\"><div class=\"sk-estimator sk-toggleable\"><input class=\"sk-toggleable__control sk-hidden--visually\" id=\"sk-estimator-id-1\" type=\"checkbox\" checked><label for=\"sk-estimator-id-1\" class=\"sk-toggleable__label sk-toggleable__label-arrow\">LinearSVC</label><div class=\"sk-toggleable__content\"><pre>LinearSVC(dual=False)</pre></div></div></div></div></div>"
      ],
      "text/plain": [
       "LinearSVC(dual=False)"
      ]
     },
     "execution_count": 34,
     "metadata": {},
     "output_type": "execute_result"
    }
   ],
   "source": [
    "svm_cls = LinearSVC(loss=\"squared_hinge\", C=1.0, dual=False)\n",
    "svm_cls.fit(train_features, train_labels)"
   ]
  },
  {
   "cell_type": "code",
   "execution_count": 35,
   "id": "92a56f7b",
   "metadata": {},
   "outputs": [
    {
     "data": {
      "text/plain": [
       "0.8968824940047961"
      ]
     },
     "execution_count": 35,
     "metadata": {},
     "output_type": "execute_result"
    }
   ],
   "source": [
    "preds = svm_cls.predict(test_features)\n",
    "accuracy_score(test_labels, preds)"
   ]
  }
 ],
 "metadata": {
  "kernelspec": {
   "display_name": "Python 3 (ipykernel)",
   "language": "python",
   "name": "python3"
  },
  "language_info": {
   "codemirror_mode": {
    "name": "ipython",
    "version": 3
   },
   "file_extension": ".py",
   "mimetype": "text/x-python",
   "name": "python",
   "nbconvert_exporter": "python",
   "pygments_lexer": "ipython3",
   "version": "3.8.10"
  }
 },
 "nbformat": 4,
 "nbformat_minor": 5
}
